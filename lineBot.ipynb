{
  "nbformat": 4,
  "nbformat_minor": 0,
  "metadata": {
    "colab": {
      "name": "lineBot.ipynb",
      "provenance": [],
      "collapsed_sections": [],
      "authorship_tag": "ABX9TyOA5loO1G28mfBveRi5lMil",
      "include_colab_link": true
    },
    "kernelspec": {
      "name": "python3",
      "display_name": "Python 3"
    },
    "language_info": {
      "name": "python"
    }
  },
  "cells": [
    {
      "cell_type": "markdown",
      "metadata": {
        "id": "view-in-github",
        "colab_type": "text"
      },
      "source": [
        "<a href=\"https://colab.research.google.com/github/leo02311/Rink/blob/master/lineBot.ipynb\" target=\"_parent\"><img src=\"https://colab.research.google.com/assets/colab-badge.svg\" alt=\"Open In Colab\"/></a>"
      ]
    },
    {
      "cell_type": "code",
      "source": [
        "!pip install Flask\n",
        "!pip install line-bot-sdk\n",
        "!pip install flask-ngrok\n",
        "!pip install flask==0.12.2  # Newer versions of flask don't work in Colab\n",
        "                            # See https://github.com/plotly/dash/issues/257\n",
        "!pip install pyngrok"
      ],
      "metadata": {
        "colab": {
          "base_uri": "https://localhost:8080/"
        },
        "id": "L4FTGfduQXSq",
        "outputId": "6d6099c1-7ca3-4222-f6db-705cfa97f94a"
      },
      "execution_count": 1,
      "outputs": [
        {
          "output_type": "stream",
          "name": "stdout",
          "text": [
            "Requirement already satisfied: Flask in /usr/local/lib/python3.7/dist-packages (1.1.4)\n",
            "Requirement already satisfied: Werkzeug<2.0,>=0.15 in /usr/local/lib/python3.7/dist-packages (from Flask) (1.0.1)\n",
            "Requirement already satisfied: Jinja2<3.0,>=2.10.1 in /usr/local/lib/python3.7/dist-packages (from Flask) (2.11.3)\n",
            "Requirement already satisfied: click<8.0,>=5.1 in /usr/local/lib/python3.7/dist-packages (from Flask) (7.1.2)\n",
            "Requirement already satisfied: itsdangerous<2.0,>=0.24 in /usr/local/lib/python3.7/dist-packages (from Flask) (1.1.0)\n",
            "Requirement already satisfied: MarkupSafe>=0.23 in /usr/local/lib/python3.7/dist-packages (from Jinja2<3.0,>=2.10.1->Flask) (2.0.1)\n",
            "Collecting line-bot-sdk\n",
            "  Downloading line_bot_sdk-2.2.1-py2.py3-none-any.whl (87 kB)\n",
            "\u001b[K     |████████████████████████████████| 87 kB 3.5 MB/s \n",
            "\u001b[?25hRequirement already satisfied: future in /usr/local/lib/python3.7/dist-packages (from line-bot-sdk) (0.16.0)\n",
            "Collecting aiohttp>=3.7.4\n",
            "  Downloading aiohttp-3.8.1-cp37-cp37m-manylinux_2_5_x86_64.manylinux1_x86_64.manylinux_2_12_x86_64.manylinux2010_x86_64.whl (1.1 MB)\n",
            "\u001b[K     |████████████████████████████████| 1.1 MB 29.3 MB/s \n",
            "\u001b[?25hRequirement already satisfied: requests>=2.0 in /usr/local/lib/python3.7/dist-packages (from line-bot-sdk) (2.23.0)\n",
            "Requirement already satisfied: attrs>=17.3.0 in /usr/local/lib/python3.7/dist-packages (from aiohttp>=3.7.4->line-bot-sdk) (21.4.0)\n",
            "Collecting asynctest==0.13.0\n",
            "  Downloading asynctest-0.13.0-py3-none-any.whl (26 kB)\n",
            "Collecting multidict<7.0,>=4.5\n",
            "  Downloading multidict-6.0.2-cp37-cp37m-manylinux_2_17_x86_64.manylinux2014_x86_64.whl (94 kB)\n",
            "\u001b[K     |████████████████████████████████| 94 kB 3.4 MB/s \n",
            "\u001b[?25hRequirement already satisfied: typing-extensions>=3.7.4 in /usr/local/lib/python3.7/dist-packages (from aiohttp>=3.7.4->line-bot-sdk) (4.2.0)\n",
            "Collecting frozenlist>=1.1.1\n",
            "  Downloading frozenlist-1.3.0-cp37-cp37m-manylinux_2_5_x86_64.manylinux1_x86_64.manylinux_2_17_x86_64.manylinux2014_x86_64.whl (144 kB)\n",
            "\u001b[K     |████████████████████████████████| 144 kB 56.5 MB/s \n",
            "\u001b[?25hCollecting yarl<2.0,>=1.0\n",
            "  Downloading yarl-1.7.2-cp37-cp37m-manylinux_2_5_x86_64.manylinux1_x86_64.manylinux_2_12_x86_64.manylinux2010_x86_64.whl (271 kB)\n",
            "\u001b[K     |████████████████████████████████| 271 kB 60.1 MB/s \n",
            "\u001b[?25hRequirement already satisfied: charset-normalizer<3.0,>=2.0 in /usr/local/lib/python3.7/dist-packages (from aiohttp>=3.7.4->line-bot-sdk) (2.0.12)\n",
            "Collecting async-timeout<5.0,>=4.0.0a3\n",
            "  Downloading async_timeout-4.0.2-py3-none-any.whl (5.8 kB)\n",
            "Collecting aiosignal>=1.1.2\n",
            "  Downloading aiosignal-1.2.0-py3-none-any.whl (8.2 kB)\n",
            "Requirement already satisfied: urllib3!=1.25.0,!=1.25.1,<1.26,>=1.21.1 in /usr/local/lib/python3.7/dist-packages (from requests>=2.0->line-bot-sdk) (1.24.3)\n",
            "Requirement already satisfied: chardet<4,>=3.0.2 in /usr/local/lib/python3.7/dist-packages (from requests>=2.0->line-bot-sdk) (3.0.4)\n",
            "Requirement already satisfied: certifi>=2017.4.17 in /usr/local/lib/python3.7/dist-packages (from requests>=2.0->line-bot-sdk) (2021.10.8)\n",
            "Requirement already satisfied: idna<3,>=2.5 in /usr/local/lib/python3.7/dist-packages (from requests>=2.0->line-bot-sdk) (2.10)\n",
            "Installing collected packages: multidict, frozenlist, yarl, asynctest, async-timeout, aiosignal, aiohttp, line-bot-sdk\n",
            "Successfully installed aiohttp-3.8.1 aiosignal-1.2.0 async-timeout-4.0.2 asynctest-0.13.0 frozenlist-1.3.0 line-bot-sdk-2.2.1 multidict-6.0.2 yarl-1.7.2\n",
            "Collecting flask-ngrok\n",
            "  Downloading flask_ngrok-0.0.25-py3-none-any.whl (3.1 kB)\n",
            "Requirement already satisfied: Flask>=0.8 in /usr/local/lib/python3.7/dist-packages (from flask-ngrok) (1.1.4)\n",
            "Requirement already satisfied: requests in /usr/local/lib/python3.7/dist-packages (from flask-ngrok) (2.23.0)\n",
            "Requirement already satisfied: Werkzeug<2.0,>=0.15 in /usr/local/lib/python3.7/dist-packages (from Flask>=0.8->flask-ngrok) (1.0.1)\n",
            "Requirement already satisfied: Jinja2<3.0,>=2.10.1 in /usr/local/lib/python3.7/dist-packages (from Flask>=0.8->flask-ngrok) (2.11.3)\n",
            "Requirement already satisfied: click<8.0,>=5.1 in /usr/local/lib/python3.7/dist-packages (from Flask>=0.8->flask-ngrok) (7.1.2)\n",
            "Requirement already satisfied: itsdangerous<2.0,>=0.24 in /usr/local/lib/python3.7/dist-packages (from Flask>=0.8->flask-ngrok) (1.1.0)\n",
            "Requirement already satisfied: MarkupSafe>=0.23 in /usr/local/lib/python3.7/dist-packages (from Jinja2<3.0,>=2.10.1->Flask>=0.8->flask-ngrok) (2.0.1)\n",
            "Requirement already satisfied: certifi>=2017.4.17 in /usr/local/lib/python3.7/dist-packages (from requests->flask-ngrok) (2021.10.8)\n",
            "Requirement already satisfied: urllib3!=1.25.0,!=1.25.1,<1.26,>=1.21.1 in /usr/local/lib/python3.7/dist-packages (from requests->flask-ngrok) (1.24.3)\n",
            "Requirement already satisfied: chardet<4,>=3.0.2 in /usr/local/lib/python3.7/dist-packages (from requests->flask-ngrok) (3.0.4)\n",
            "Requirement already satisfied: idna<3,>=2.5 in /usr/local/lib/python3.7/dist-packages (from requests->flask-ngrok) (2.10)\n",
            "Installing collected packages: flask-ngrok\n",
            "Successfully installed flask-ngrok-0.0.25\n",
            "Collecting flask==0.12.2\n",
            "  Downloading Flask-0.12.2-py2.py3-none-any.whl (83 kB)\n",
            "\u001b[K     |████████████████████████████████| 83 kB 1.3 MB/s \n",
            "\u001b[?25hRequirement already satisfied: Jinja2>=2.4 in /usr/local/lib/python3.7/dist-packages (from flask==0.12.2) (2.11.3)\n",
            "Requirement already satisfied: Werkzeug>=0.7 in /usr/local/lib/python3.7/dist-packages (from flask==0.12.2) (1.0.1)\n",
            "Requirement already satisfied: click>=2.0 in /usr/local/lib/python3.7/dist-packages (from flask==0.12.2) (7.1.2)\n",
            "Requirement already satisfied: itsdangerous>=0.21 in /usr/local/lib/python3.7/dist-packages (from flask==0.12.2) (1.1.0)\n",
            "Requirement already satisfied: MarkupSafe>=0.23 in /usr/local/lib/python3.7/dist-packages (from Jinja2>=2.4->flask==0.12.2) (2.0.1)\n",
            "Installing collected packages: flask\n",
            "  Attempting uninstall: flask\n",
            "    Found existing installation: Flask 1.1.4\n",
            "    Uninstalling Flask-1.1.4:\n",
            "      Successfully uninstalled Flask-1.1.4\n",
            "Successfully installed flask-0.12.2\n",
            "Collecting pyngrok\n",
            "  Downloading pyngrok-5.1.0.tar.gz (745 kB)\n",
            "\u001b[K     |████████████████████████████████| 745 kB 1.5 MB/s \n",
            "\u001b[?25hRequirement already satisfied: PyYAML in /usr/local/lib/python3.7/dist-packages (from pyngrok) (3.13)\n",
            "Building wheels for collected packages: pyngrok\n",
            "  Building wheel for pyngrok (setup.py) ... \u001b[?25l\u001b[?25hdone\n",
            "  Created wheel for pyngrok: filename=pyngrok-5.1.0-py3-none-any.whl size=19007 sha256=7f29fb243aa79181eefbaeb9e649b28849786b8a0a63bd62fdb8d1060d26ad3c\n",
            "  Stored in directory: /root/.cache/pip/wheels/bf/e6/af/ccf6598ecefecd44104069371795cb9b3afbcd16987f6ccfb3\n",
            "Successfully built pyngrok\n",
            "Installing collected packages: pyngrok\n",
            "Successfully installed pyngrok-5.1.0\n",
            "Collecting uwsgi\n",
            "  Downloading uwsgi-2.0.20.tar.gz (804 kB)\n",
            "\u001b[K     |████████████████████████████████| 804 kB 5.0 MB/s \n",
            "\u001b[?25hBuilding wheels for collected packages: uwsgi\n",
            "  Building wheel for uwsgi (setup.py) ... \u001b[?25l\u001b[?25hdone\n",
            "  Created wheel for uwsgi: filename=uWSGI-2.0.20-cp37-cp37m-linux_x86_64.whl size=597694 sha256=3c48479d541a79bee30470f1708113f67c18a37f93dd2e2495eb8ff34815732a\n",
            "  Stored in directory: /root/.cache/pip/wheels/99/e3/32/1d3419369b9ba0fdb08c0daf8b43f284f298732325a89b4fdc\n",
            "Successfully built uwsgi\n",
            "Installing collected packages: uwsgi\n",
            "Successfully installed uwsgi-2.0.20\n"
          ]
        }
      ]
    },
    {
      "cell_type": "code",
      "source": [
        "from google.colab import drive\n",
        "drive.mount('/content/drive', force_remount=True)\n",
        "\n",
        "!mkdir -p /drive\n",
        "#umount /drive\n",
        "!mount --bind /content/drive/My\\ Drive /drive\n",
        "!mkdir -p /drive/ngrok-ssh\n",
        "!mkdir -p ~/.ssh\n",
        "!mkdir -p /drive/ngrok-ssh\n",
        "%cd /drive/ngrok-ssh\n",
        "!wget https://bin.equinox.io/c/4VmDzA7iaHb/ngrok-stable-linux-amd64.zip -O ngrok-stable-linux-amd64.zip\n",
        "!unzip -u ngrok-stable-linux-amd64.zip\n",
        "!cp /drive/ngrok-ssh/ngrok /ngrok\n",
        "!chmod +x /ngrok\n",
        "!/ngrok authtoken 291N4oJwYfwNMWhzCMZTJ4MLOBI_3XHb3thH5BEjMF1G62ezV"
      ],
      "metadata": {
        "colab": {
          "base_uri": "https://localhost:8080/"
        },
        "id": "Ob3PyyJyuBF8",
        "outputId": "5f1d139a-0ad0-4344-c63a-997c5a6f2c9a"
      },
      "execution_count": 2,
      "outputs": [
        {
          "output_type": "stream",
          "name": "stdout",
          "text": [
            "Mounted at /content/drive\n",
            "/drive/ngrok-ssh\n",
            "--2022-05-12 02:54:40--  https://bin.equinox.io/c/4VmDzA7iaHb/ngrok-stable-linux-amd64.zip\n",
            "Resolving bin.equinox.io (bin.equinox.io)... 54.237.133.81, 52.202.168.65, 54.161.241.46, ...\n",
            "Connecting to bin.equinox.io (bin.equinox.io)|54.237.133.81|:443... connected.\n",
            "HTTP request sent, awaiting response... 200 OK\n",
            "Length: 13832437 (13M) [application/octet-stream]\n",
            "Saving to: ‘ngrok-stable-linux-amd64.zip’\n",
            "\n",
            "ngrok-stable-linux- 100%[===================>]  13.19M  36.1MB/s    in 0.4s    \n",
            "\n",
            "2022-05-12 02:54:41 (36.1 MB/s) - ‘ngrok-stable-linux-amd64.zip’ saved [13832437/13832437]\n",
            "\n",
            "Archive:  ngrok-stable-linux-amd64.zip\n",
            "Authtoken saved to configuration file: /root/.ngrok2/ngrok.yml\n"
          ]
        }
      ]
    },
    {
      "cell_type": "code",
      "source": [
        "from flask import Flask, request, abort    #flask是一個python微型後端框架。\n",
        "\n",
        "from linebot import (\n",
        "    LineBotApi, WebhookHandler\n",
        ")    #讀入以使用linebot的相關模組，模組的用途通常看命名就猜的到。\n",
        "from linebot.exceptions import (\n",
        "    InvalidSignatureError\n",
        ")\n",
        "from linebot.models import (\n",
        "    MessageEvent, TextMessage, TextSendMessage,\n",
        ")"
      ],
      "metadata": {
        "id": "YkJ1-58oQk6P"
      },
      "execution_count": 3,
      "outputs": []
    },
    {
      "cell_type": "code",
      "source": [
        "!mkdir -p drive\n",
        "!google-drive-ocamlfuse drive\n",
        "import os\n",
        "import sys\n",
        "os.chdir('/content/drive/MyDrive')"
      ],
      "metadata": {
        "colab": {
          "base_uri": "https://localhost:8080/"
        },
        "id": "e-pfxKz0CO5g",
        "outputId": "39d6a7d7-79e4-4a47-e236-5dd3806c2e44"
      },
      "execution_count": 4,
      "outputs": [
        {
          "output_type": "stream",
          "name": "stdout",
          "text": [
            "/bin/bash: google-drive-ocamlfuse: command not found\n"
          ]
        }
      ]
    },
    {
      "cell_type": "code",
      "source": [
        "!uwsgi app.ini"
      ],
      "metadata": {
        "colab": {
          "base_uri": "https://localhost:8080/"
        },
        "id": "LckzbcYYNgut",
        "outputId": "3d683f78-5301-467c-93d3-a64a5338b98d"
      },
      "execution_count": 5,
      "outputs": [
        {
          "output_type": "stream",
          "name": "stdout",
          "text": [
            "[uWSGI] getting INI configuration from app.ini\n",
            "*** Starting uWSGI 2.0.20 (64bit) on [Thu May 12 03:00:51 2022] ***\n",
            "compiled with version: 7.5.0 on 12 May 2022 02:53:47\n",
            "os: Linux-5.4.188+ #1 SMP Sun Apr 24 10:03:06 PDT 2022\n",
            "nodename: 3d625eefa3a7\n",
            "machine: x86_64\n",
            "clock source: unix\n",
            "pcre jit disabled\n",
            "detected number of CPU cores: 2\n",
            "current working directory: /content/drive/MyDrive\n",
            "detected binary path: /usr/local/bin/uwsgi\n",
            "uWSGI running as root, you can use --uid/--gid/--chroot options\n",
            "*** WARNING: you are running uWSGI as root !!! (use the --uid flag) *** \n",
            "your memory page size is 4096 bytes\n",
            "detected max file descriptor number: 1048576\n",
            "lock engine: pthread robust mutexes\n",
            "thunder lock: disabled (you can enable it with --thunder-lock)\n",
            "uWSGI http bound on :5000 fd 4\n",
            "uwsgi socket 0 bound to TCP address 127.0.0.1:44583 (port auto-assigned) fd 3\n",
            "uWSGI running as root, you can use --uid/--gid/--chroot options\n",
            "*** WARNING: you are running uWSGI as root !!! (use the --uid flag) *** \n",
            "Python version: 3.7.13 (default, Apr 24 2022, 01:04:09)  [GCC 7.5.0]\n",
            "Python main interpreter initialized at 0x5559f64c2120\n",
            "uWSGI running as root, you can use --uid/--gid/--chroot options\n",
            "*** WARNING: you are running uWSGI as root !!! (use the --uid flag) *** \n",
            "python threads support enabled\n",
            "your server socket listen backlog is limited to 100 connections\n",
            "your mercy for graceful operations on workers is 60 seconds\n",
            "mapped 416880 bytes (407 KB) for 8 cores\n",
            "*** Operational MODE: preforking+threaded ***\n",
            "failed to open python file lineBot.py\n",
            "unable to load app 0 (mountpoint='') (callable not found or import error)\n",
            "*** no app loaded. going in full dynamic mode ***\n",
            "uWSGI running as root, you can use --uid/--gid/--chroot options\n",
            "*** WARNING: you are running uWSGI as root !!! (use the --uid flag) *** \n",
            "*** uWSGI is running in multiple interpreter mode ***\n",
            "spawned uWSGI master process (pid: 1016)\n",
            "spawned uWSGI worker 1 (pid: 1017, cores: 2)\n",
            "spawned uWSGI worker 2 (pid: 1018, cores: 2)\n",
            "spawned uWSGI worker 3 (pid: 1019, cores: 2)\n",
            "spawned uWSGI worker 4 (pid: 1020, cores: 2)\n",
            "spawned uWSGI http 1 (pid: 1021)\n",
            "SIGINT/SIGTERM received...killing workers...\n",
            "gateway \"uWSGI http 1\" has been buried (pid: 1021)\n",
            "worker 1 buried after 1 seconds\n",
            "worker 2 buried after 1 seconds\n",
            "worker 3 buried after 1 seconds\n",
            "worker 4 buried after 1 seconds\n",
            "goodbye to uWSGI.\n"
          ]
        }
      ]
    },
    {
      "cell_type": "code",
      "execution_count": 6,
      "metadata": {
        "colab": {
          "base_uri": "https://localhost:8080/"
        },
        "id": "TNzDj4FsAiks",
        "outputId": "d9132fae-3125-47ea-bf8d-07f77883d138"
      },
      "outputs": [
        {
          "output_type": "stream",
          "name": "stdout",
          "text": [
            ""
          ]
        },
        {
          "output_type": "stream",
          "name": "stderr",
          "text": [
            " * Running on http://127.0.0.1:5000/ (Press CTRL+C to quit)\n"
          ]
        },
        {
          "output_type": "stream",
          "name": "stdout",
          "text": [
            " * ngrok tunnel \"https://bbb3-34-148-242-181.ngrok.io\" -> \"http://127.0.0.1:5000\"\n",
            " * Running on http://bbb3-34-148-242-181.ngrok.io\n",
            " * Traffic stats available on http://127.0.0.1:4040\n"
          ]
        }
      ],
      "source": [
        "import os\n",
        "import threading\n",
        "\n",
        "os.environ[\"FLASK_ENV\"] = \"development\"\n",
        "\n",
        "from flask_ngrok import run_with_ngrok\n",
        "\n",
        "from flask import Flask, request, abort\n",
        "\n",
        "from linebot import (\n",
        "    LineBotApi, WebhookHandler\n",
        ")\n",
        "from linebot.exceptions import (\n",
        "    InvalidSignatureError\n",
        ")\n",
        "from linebot.models import (\n",
        "    MessageEvent, TextMessage, TextSendMessage,\n",
        ")\n",
        "\n",
        "from pyngrok import ngrok\n",
        "\n",
        "import random\n",
        "\n",
        "import configparser \n",
        "\n",
        "config = configparser.ConfigParser()\n",
        "config.read('config.ini')\n",
        "\n",
        "\n",
        "app = Flask(__name__)\n",
        "\"\"\"\n",
        "# Open a HTTP tunnel on the default port 80\n",
        "# <NgrokTunnel: \"http://<public_sub>.ngrok.io\" -> \"http://localhost:80\">\n",
        "public_url = ngrok.connect(port=\"5000\", proto=\"http\", bind_tls=True)\n",
        "print(public_url)\n",
        "# Open a SSH tunnel\n",
        "# <NgrokTunnel: \"tcp://0.tcp.ngrok.io:12345\" -> \"localhost:22\">\n",
        "ssh_tunnel = ngrok.connect(22, \"tcp\")\n",
        "\"\"\"\n",
        "port = 5000\n",
        "\n",
        "# Open a ngrok tunnel to the HTTP server\n",
        "public_url = ngrok.connect(port, bind_tls=True).public_url\n",
        "print(\" * ngrok tunnel \\\"{}\\\" -> \\\"http://127.0.0.1:{}\\\"\".format(public_url, port))\n",
        "\n",
        "# Update any base URLs to use the public ngrok URL\n",
        "app.config[\"BASE_URL\"] = public_url\n",
        "\n",
        "# ... Update inbound traffic via APIs to use the public-facing ngrok URL\n",
        "\n",
        "\n",
        "\n",
        "run_with_ngrok(app)   #starts ngrok when the app is run\n",
        "\n",
        "line_bot_api = LineBotApi(config.get('line-bot', 'channel_access_token')) #已存於config.ini\n",
        "handler = WebhookHandler(config.get('line-bot', 'channel_secret'))\n",
        "\n",
        "\n",
        "@app.route(\"/callback\", methods=['POST'])\n",
        "def callback():\n",
        "    # get X-Line-Signature header value\n",
        "    signature = request.headers['X-Line-Signature']\n",
        "\n",
        "    # get request body as text\n",
        "    body = request.get_data(as_text=True)\n",
        "    app.logger.info(\"Request body: \" + body)\n",
        "\n",
        "    # handle webhook body\n",
        "    try:\n",
        "        handler.handle(body, signature)\n",
        "    except InvalidSignatureError:\n",
        "        print(\"Invalid signature. Please check your channel access token/channel secret.\")\n",
        "        abort(400)\n",
        "\n",
        "    return 'OK'\n",
        "\n",
        "\n",
        "@handler.add(MessageEvent, message=TextMessage)\n",
        "def handle_message(event):\n",
        "    if event.source.user_id =='Ucab9e8a853d134c56230256c276b4a35': #填入line在verify時回傳的user_id\n",
        "        return 'OK'\n",
        "    else:\n",
        "      if event.message.text == '鼠倫一個':\n",
        "        line_bot_api.reply_message(\n",
        "            event.reply_token,\n",
        "            TextSendMessage(text=\"Hi\")\n",
        "        )\n",
        "\n",
        "if __name__ == \"__main__\":\n",
        "    app.run()"
      ]
    },
    {
      "cell_type": "markdown",
      "source": [
        "https://fwinrgon.herokuapp.com/callback"
      ],
      "metadata": {
        "id": "P0mhaBYqUEzf"
      }
    },
    {
      "cell_type": "code",
      "source": [
        "from PIL import Image\n",
        "from numpy import average, linalg, dot\n",
        " \n",
        " \n",
        "def get_thumbnail(image, size=(1200, 750), greyscale=False):\n",
        "    image = image.resize(size, Image.ANTIALIAS)\n",
        "    if greyscale:\n",
        "        image = image.convert('L')\n",
        "    return image\n",
        " \n",
        " \n",
        "def image_similarity_vectors_via_numpy(image1, image2):\n",
        " \n",
        "    image1 = get_thumbnail(image1)\n",
        "    image2 = get_thumbnail(image2)\n",
        "    images = [image1, image2]\n",
        "    vectors = []\n",
        "    norms = []\n",
        "    for image in images:\n",
        "        vector = []\n",
        "        for pixel_tuple in image.getdata():\n",
        "            vector.append(average(pixel_tuple))\n",
        "        vectors.append(vector)\n",
        "        norms.append(linalg.norm(vector, 2))\n",
        "    a, b = vectors\n",
        "    a_norm, b_norm = norms\n",
        "    res = dot(a / a_norm, b / b_norm)\n",
        "    return res\n",
        " \n",
        " \n",
        "image1 = Image.open('1.jpg')\n",
        "image2 = Image.open('2.jpg')\n",
        "cosin = image_similarity_vectors_via_numpy(image1, image2)\n",
        " \n",
        "print(cosin)"
      ],
      "metadata": {
        "id": "PrnclWL5P_UY"
      },
      "execution_count": null,
      "outputs": []
    }
  ]
}